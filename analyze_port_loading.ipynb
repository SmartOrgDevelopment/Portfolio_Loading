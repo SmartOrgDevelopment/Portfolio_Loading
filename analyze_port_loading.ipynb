{
 "cells": [
  {
   "cell_type": "code",
   "execution_count": 2,
   "id": "fcd5dea2-43b1-4cc2-9e35-d1a75b30e75e",
   "metadata": {},
   "outputs": [],
   "source": [
    "from pymongo import MongoClient\n",
    "\n",
    "import time"
   ]
  },
  {
   "cell_type": "code",
   "execution_count": 3,
   "id": "e4d6a664-0d52-4e07-b203-408c339c9455",
   "metadata": {},
   "outputs": [],
   "source": [
    "client = MongoClient('mongodb://localhost:27017/')\n",
    "db = client['astro_db']\n",
    "astro_nodes = db['astro_nodes']\n",
    "astro_data = db['astro_data']"
   ]
  },
  {
   "cell_type": "code",
   "execution_count": 4,
   "id": "70fdc7b2-894b-4b50-9dcb-e86858c1d856",
   "metadata": {},
   "outputs": [],
   "source": [
    "treeID = 'Dave Large CP Test'"
   ]
  },
  {
   "cell_type": "markdown",
   "id": "6e7ef749-3804-4398-98ac-1f77fb1f86ac",
   "metadata": {},
   "source": [
    "## Get all leaf nodes in a portfolio with include and exclude filtering"
   ]
  },
  {
   "cell_type": "code",
   "execution_count": 5,
   "id": "f409b314-4e33-4e8a-adfb-ddc2f011a53f",
   "metadata": {},
   "outputs": [
    {
     "name": "stdout",
     "output_type": "stream",
     "text": [
      "Execution time: 2.453315 seconds\n",
      "Leaves loaded:   30394\n"
     ]
    }
   ],
   "source": [
    "# %%timeit\n",
    "\n",
    "start_time = time.perf_counter()\n",
    "# include_filter = ['Approved']\n",
    "# include_filter = ['ProjectStatus:Approved','ProjectStatus:Planning']\n",
    "# include_filter = ['Portfolio:Insecticides']\n",
    "# exclude_filter =['Portfolio:Insecticides','Portfolio:Fungicides']\n",
    "include_filter = []\n",
    "exclude_filter = []\n",
    "\n",
    "query = {\n",
    "        'treeID': treeID,\n",
    "        'children':[]\n",
    "}\n",
    "\n",
    "\n",
    "# Dynamically build the tags filter\n",
    "tags_filter = {}\n",
    "\n",
    "if include_filter:  # Add $in only if include_filter is not empty\n",
    "    # tags_filter[\"$in\"] = [f'ProjectStatus:{entry}' for entry in include_filter]\n",
    "    tags_filter['$in'] = include_filter\n",
    "\n",
    "if exclude_filter:  # Add $nin only if exclude_filter is not empty\n",
    "    tags_filter[\"$nin\"] = exclude_filter\n",
    "\n",
    "# Only add \"tags\" filter to query if it has conditions\n",
    "if tags_filter:\n",
    "    query[\"tags\"] = tags_filter    \n",
    "            \n",
    "\n",
    "# print(query)\n",
    "projection = {'_id':1, 'data':1, 'name':1, 'path':1, 'children':1, 'isDataValid':1, 'attribute':1}\n",
    "\n",
    "leaves = list(astro_nodes.find(query,projection))\n",
    "\n",
    "end_time = time.perf_counter()\n",
    "print(f\"Execution time: {(end_time-start_time):.6f} seconds\")\n",
    "print(\"Leaves loaded:  \", len(leaves))\n"
   ]
  },
  {
   "cell_type": "markdown",
   "id": "529514c4-e36e-4ef2-9dff-bde62f12ae42",
   "metadata": {},
   "source": [
    "### Get all the non-children nodes in a portfolio accounting for tree filtering of the leaf nodes"
   ]
  },
  {
   "cell_type": "code",
   "execution_count": 6,
   "id": "171ef74f-9ba7-496d-a80d-7917c23e0fb3",
   "metadata": {},
   "outputs": [
    {
     "name": "stdout",
     "output_type": "stream",
     "text": [
      "Execution time: 0.774651 seconds\n",
      "Nodes loaded:   2913\n"
     ]
    }
   ],
   "source": [
    "start_time = time.perf_counter()\n",
    "\n",
    "pipeline = [\n",
    "    # Step 1: Match documents based on treeID and empty children\n",
    "    {\"$match\": query},\n",
    "    # {\"$match\": {\"treeID\": treeID, \"children\": []}},\n",
    "\n",
    "    # Step 2: Unwind the \"path\" array to get individual elements\n",
    "    {\"$unwind\": \"$path\"},\n",
    "\n",
    "    # Step 3: Collect unique path elements into a set\n",
    "    {\"$group\": {\"_id\": None, \"uniquePaths\": {\"$addToSet\": \"$path\"}}},\n",
    "\n",
    "    # Step 4: Lookup all documents where \"path\" contains any of these uniquePaths\n",
    "    {\n",
    "        \"$lookup\": {\n",
    "            \"from\": \"astro_nodes\",  # The same collection (self-join)\n",
    "            \"localField\": \"uniquePaths\",\n",
    "            \"foreignField\": \"_id\",\n",
    "            \"as\": \"matching_docs\"\n",
    "        }\n",
    "    },\n",
    "\n",
    "    # Step 5: Unwind the \"matching_docs\" array to get each document separately\n",
    "    {\"$unwind\": \"$matching_docs\"},\n",
    "\n",
    "    # Step 6: Project only the required fields\n",
    "    {\n",
    "        \"$project\": {\n",
    "            \"_id\": \"$matching_docs._id\",\n",
    "            \"name\": \"$matching_docs.name\",\n",
    "            \"children\": \"$matching_docs.children\",\n",
    "            \"parent\": \"$matching_docs.parent\",\n",
    "            \"data\":\"$matching_docs.data\",\n",
    "            'isDataValid':'$matching_docs.isDataValid',\n",
    "            \"attribute\":\"$matching_docs.attribute\"\n",
    "        }\n",
    "    }\n",
    "]\n",
    "\n",
    "# Execute the aggregation\n",
    "subNodeResults = list(astro_nodes.aggregate(pipeline))\n",
    "\n",
    "end_time = time.perf_counter()\n",
    "print(f\"Execution time: {(end_time-start_time):.6f} seconds\")\n",
    "print(\"Nodes loaded:  \", len(subNodeResults))"
   ]
  },
  {
   "cell_type": "markdown",
   "id": "a1422df8-a898-43c0-8f91-ce11bd1caf46",
   "metadata": {},
   "source": [
    "### Example loading leaves using tree filtering"
   ]
  },
  {
   "cell_type": "code",
   "execution_count": 7,
   "id": "009827ec-193d-41dc-b38f-c0b6d485a1cf",
   "metadata": {},
   "outputs": [
    {
     "name": "stdout",
     "output_type": "stream",
     "text": [
      "Execution time: 1.407508 seconds\n",
      "Leaves loaded:   14984\n"
     ]
    }
   ],
   "source": [
    "# %%timeit\n",
    "\n",
    "start_time = time.perf_counter()\n",
    "# include_filter = ['Approved']\n",
    "include_filter = ['ProjectStatus:Approved','ProjectStatus:Planning']\n",
    "# include_filter = ['Portfolio:Insecticides']\n",
    "# exclude_filter =['Portfolio:Insecticides','Portfolio:Fungicides']\n",
    "# include_filter = []\n",
    "exclude_filter = []\n",
    "\n",
    "query = {\n",
    "        'treeID': treeID,\n",
    "        'children':[]\n",
    "}\n",
    "\n",
    "\n",
    "# Dynamically build the tags filter\n",
    "tags_filter = {}\n",
    "\n",
    "if include_filter:  # Add $in only if include_filter is not empty\n",
    "    # tags_filter[\"$in\"] = [f'ProjectStatus:{entry}' for entry in include_filter]\n",
    "    tags_filter['$in'] = include_filter\n",
    "\n",
    "if exclude_filter:  # Add $nin only if exclude_filter is not empty\n",
    "    tags_filter[\"$nin\"] = exclude_filter\n",
    "\n",
    "# Only add \"tags\" filter to query if it has conditions\n",
    "if tags_filter:\n",
    "    query[\"tags\"] = tags_filter    \n",
    "            \n",
    "\n",
    "# print(query)\n",
    "projection = {'_id':1, 'data':1, 'name':1, 'path':1, 'children':1, 'isDataValid':1, 'attribute':1}\n",
    "\n",
    "leaves = list(astro_nodes.find(query,projection))\n",
    "\n",
    "end_time = time.perf_counter()\n",
    "print(f\"Execution time: {(end_time-start_time):.6f} seconds\")\n",
    "print(\"Leaves loaded:  \", len(leaves))\n"
   ]
  },
  {
   "cell_type": "code",
   "execution_count": null,
   "id": "0f37e0f2-1e75-4bdf-919c-9e12553289ff",
   "metadata": {},
   "outputs": [],
   "source": [
    "### Use same query for loading leaves (with tree filtering)"
   ]
  },
  {
   "cell_type": "code",
   "execution_count": null,
   "id": "f52d8e20-b27e-4bd3-9b11-7d43a19f74f1",
   "metadata": {},
   "outputs": [],
   "source": [
    "start_time = time.perf_counter()\n",
    "\n",
    "pipeline = [\n",
    "    # Step 1: Match documents based on treeID and empty children\n",
    "    {\"$match\": query},\n",
    "    # {\"$match\": {\"treeID\": treeID, \"children\": []}},\n",
    "\n",
    "    # Step 2: Unwind the \"path\" array to get individual elements\n",
    "    {\"$unwind\": \"$path\"},\n",
    "\n",
    "    # Step 3: Collect unique path elements into a set\n",
    "    {\"$group\": {\"_id\": None, \"uniquePaths\": {\"$addToSet\": \"$path\"}}},\n",
    "\n",
    "    # Step 4: Lookup all documents where \"path\" contains any of these uniquePaths\n",
    "    {\n",
    "        \"$lookup\": {\n",
    "            \"from\": \"astro_nodes\",  # The same collection (self-join)\n",
    "            \"localField\": \"uniquePaths\",\n",
    "            \"foreignField\": \"_id\",\n",
    "            \"as\": \"matching_docs\"\n",
    "        }\n",
    "    },\n",
    "\n",
    "    # Step 5: Unwind the \"matching_docs\" array to get each document separately\n",
    "    {\"$unwind\": \"$matching_docs\"},\n",
    "\n",
    "    # Step 6: Project only the required fields\n",
    "    {\n",
    "        \"$project\": {\n",
    "            \"_id\": \"$matching_docs._id\",\n",
    "            \"name\": \"$matching_docs.name\",\n",
    "            \"children\": \"$matching_docs.children\",\n",
    "            \"parent\": \"$matching_docs.parent\",\n",
    "            \"data\":\"$matching_docs.data\",\n",
    "            'isDataValid':'$matching_docs.isDataValid',\n",
    "            \"attribute\":\"$matching_docs.attribute\"\n",
    "        }\n",
    "    }\n",
    "]\n",
    "\n",
    "# Execute the aggregation\n",
    "subNodeResults = list(astro_nodes.aggregate(pipeline))\n",
    "\n",
    "end_time = time.perf_counter()\n",
    "print(f\"Execution time: {(end_time-start_time):.6f} seconds\")\n",
    "print(\"Nodes loaded:  \", len(subNodeResults))"
   ]
  }
 ],
 "metadata": {
  "kernelspec": {
   "display_name": "Python 3 (ipykernel)",
   "language": "python",
   "name": "python3"
  },
  "language_info": {
   "codemirror_mode": {
    "name": "ipython",
    "version": 3
   },
   "file_extension": ".py",
   "mimetype": "text/x-python",
   "name": "python",
   "nbconvert_exporter": "python",
   "pygments_lexer": "ipython3",
   "version": "3.12.9"
  }
 },
 "nbformat": 4,
 "nbformat_minor": 5
}
